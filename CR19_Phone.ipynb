{
  "nbformat": 4,
  "nbformat_minor": 0,
  "metadata": {
    "colab": {
      "provenance": [],
      "mount_file_id": "145nQhEcZ9SDhX-TQ0uJcSC9BJyDqyKbq",
      "authorship_tag": "ABX9TyOE1QAWWVPU+1ZgCiMA6SU3",
      "include_colab_link": true
    },
    "kernelspec": {
      "name": "python3",
      "display_name": "Python 3"
    },
    "language_info": {
      "name": "python"
    }
  },
  "cells": [
    {
      "cell_type": "markdown",
      "metadata": {
        "id": "view-in-github",
        "colab_type": "text"
      },
      "source": [
        "<a href=\"https://colab.research.google.com/github/Sashimimeow/Sashimimeow/blob/main/CR19_Phone.ipynb\" target=\"_parent\"><img src=\"https://colab.research.google.com/assets/colab-badge.svg\" alt=\"Open In Colab\"/></a>"
      ]
    },
    {
      "cell_type": "code",
      "execution_count": 134,
      "metadata": {
        "id": "ZL1kykEzXj4y",
        "colab": {
          "base_uri": "https://localhost:8080/"
        },
        "outputId": "9322d984-d1c2-4239-8c4d-fccc480d9490"
      },
      "outputs": [
        {
          "output_type": "stream",
          "name": "stdout",
          "text": [
            "Requirement already satisfied: aspose-cells in /usr/local/lib/python3.10/dist-packages (24.5.0)\n",
            "Requirement already satisfied: JPype1>=1.2.1 in /usr/local/lib/python3.10/dist-packages (from aspose-cells) (1.5.0)\n",
            "Requirement already satisfied: packaging in /usr/local/lib/python3.10/dist-packages (from JPype1>=1.2.1->aspose-cells) (24.0)\n"
          ]
        }
      ],
      "source": [
        "pip install aspose-cells\n"
      ]
    },
    {
      "cell_type": "code",
      "source": [
        "pip install pandas"
      ],
      "metadata": {
        "colab": {
          "base_uri": "https://localhost:8080/"
        },
        "id": "dICmFR45V2Fg",
        "outputId": "3752cf1d-29f1-4a38-e0b7-9c01ecef8a0e"
      },
      "execution_count": 135,
      "outputs": [
        {
          "output_type": "stream",
          "name": "stdout",
          "text": [
            "Requirement already satisfied: pandas in /usr/local/lib/python3.10/dist-packages (2.0.3)\n",
            "Requirement already satisfied: python-dateutil>=2.8.2 in /usr/local/lib/python3.10/dist-packages (from pandas) (2.8.2)\n",
            "Requirement already satisfied: pytz>=2020.1 in /usr/local/lib/python3.10/dist-packages (from pandas) (2023.4)\n",
            "Requirement already satisfied: tzdata>=2022.1 in /usr/local/lib/python3.10/dist-packages (from pandas) (2024.1)\n",
            "Requirement already satisfied: numpy>=1.21.0 in /usr/local/lib/python3.10/dist-packages (from pandas) (1.25.2)\n",
            "Requirement already satisfied: six>=1.5 in /usr/local/lib/python3.10/dist-packages (from python-dateutil>=2.8.2->pandas) (1.16.0)\n"
          ]
        }
      ]
    },
    {
      "cell_type": "code",
      "source": [
        "from google.colab import drive\n",
        "drive.mount('/content/drive/')"
      ],
      "metadata": {
        "colab": {
          "base_uri": "https://localhost:8080/"
        },
        "id": "lnHkfP6yShIW",
        "outputId": "b1da046f-39e1-4b17-c210-5345ab66bcd1"
      },
      "execution_count": 136,
      "outputs": [
        {
          "output_type": "stream",
          "name": "stdout",
          "text": [
            "Drive already mounted at /content/drive/; to attempt to forcibly remount, call drive.mount(\"/content/drive/\", force_remount=True).\n"
          ]
        }
      ]
    },
    {
      "cell_type": "code",
      "source": [
        "#เข้าไป path ใน google drive\n",
        "import os\n",
        "os.chdir('/content/drive/MyDrive/Cleasing Data For กองทรัพยากรบุคคล')\n",
        "!pwd #เช็ค path ที่กำลังทำงานอยู่"
      ],
      "metadata": {
        "colab": {
          "base_uri": "https://localhost:8080/"
        },
        "id": "fIok1Y3pVxy6",
        "outputId": "03c31e68-0d9f-4d49-ffd4-68141a1adac3"
      },
      "execution_count": 137,
      "outputs": [
        {
          "output_type": "stream",
          "name": "stdout",
          "text": [
            "/content/drive/MyDrive/Cleasing Data For กองทรัพยากรบุคคล\n"
          ]
        }
      ]
    },
    {
      "cell_type": "code",
      "source": [
        "import pandas as pd\n",
        "\n",
        "# ระบุที่อยู่ของไฟล์ Excel\n",
        "excel_file = \"/content/drive/MyDrive/Cleasing Data For กองทรัพยากรบุคคล/CR19-Worker-Phone_V00.xlsx\"\n",
        "\n",
        "# โหลดข้อมูลจากไฟล์ Excel เป็น DataFrame\n",
        "Data_Phone = pd.read_excel(excel_file)\n"
      ],
      "metadata": {
        "colab": {
          "base_uri": "https://localhost:8080/"
        },
        "id": "Wh29SVCNYLp8",
        "outputId": "ae0246f8-3d48-4523-e3fa-88965cd8e1c7"
      },
      "execution_count": 138,
      "outputs": [
        {
          "output_type": "stream",
          "name": "stderr",
          "text": [
            "/usr/local/lib/python3.10/dist-packages/openpyxl/worksheet/_reader.py:329: UserWarning: Data Validation extension is not supported and will be removed\n",
            "  warn(msg)\n"
          ]
        }
      ]
    },
    {
      "cell_type": "code",
      "source": [
        "# แสดงข้อมูล\n",
        "print(Data_Phone)\n"
      ],
      "metadata": {
        "colab": {
          "base_uri": "https://localhost:8080/"
        },
        "id": "YavaC0yNYYGd",
        "outputId": "03b3483f-1a34-46da-b79b-28f0355e1d1a"
      },
      "execution_count": 139,
      "outputs": [
        {
          "output_type": "stream",
          "name": "stdout",
          "text": [
            "    Unnamed: 0         Unnamed: 1           Unnamed: 2  \\\n",
            "0          NaN                NaN                  NaN   \n",
            "1          NaN                NaN                  NaN   \n",
            "2          NaN                NaN               Worker   \n",
            "3          NaN        Column Name            Hire Date   \n",
            "4          NaN          Data Type   Date (DD-MON-YYYY)   \n",
            "5          NaN  Required (Yes/No)             Required   \n",
            "6          NaN             Length                  NaN   \n",
            "7          NaN   Remarks (If any)          วันเริ่มงาน   \n",
            "8          NaN                NaN                  NaN   \n",
            "9          NaN            Example  2023-01-25 00:00:00   \n",
            "10         NaN            Example  2023-10-25 00:00:00   \n",
            "\n",
            "                                           Unnamed: 3              Unnamed: 4  \\\n",
            "0                                                 NaN                     NaN   \n",
            "1                                                 NaN                     NaN   \n",
            "2                                                 NaN                     NaN   \n",
            "3                                     * Person Number              Phone Type   \n",
            "4                                           Character                  Lookup   \n",
            "5                                            Required                Required   \n",
            "6                                                 NaN                     NaN   \n",
            "7                                         รหัสบุคลากร  ประเภทของเบอร์โทรศัพท์   \n",
            "8   ต้องสอดคล้องกับ  Person Number ใน Worker-Perso...                     NaN   \n",
            "9                                              800001                  มือถือ   \n",
            "10                                             800001        โทรศัพท์ที่ทำงาน   \n",
            "\n",
            "      Unnamed: 5   Unnamed: 6       Unnamed: 7     Unnamed: 8  \n",
            "0            NaN          NaN              NaN            NaN  \n",
            "1            NaN          NaN              NaN            NaN  \n",
            "2            NaN          NaN              NaN            NaN  \n",
            "3   Country Code    Area Code          Number       Extension  \n",
            "4         Lookup       Number           Number         Number  \n",
            "5            NaN          NaN              NaN            NaN  \n",
            "6            NaN           30               30             60  \n",
            "7     รหัสประเทศ  รหัสพื้นที่  หมายเลขโทรศัพท์  เบอร์ต่อภายใน  \n",
            "8            NaN          NaN              NaN            NaN  \n",
            "9            NaN          NaN        918987654            NaN  \n",
            "10           NaN          NaN         22340129          81234  \n"
          ]
        }
      ]
    },
    {
      "cell_type": "code",
      "source": [
        "print(Data_Phone.columns)"
      ],
      "metadata": {
        "colab": {
          "base_uri": "https://localhost:8080/"
        },
        "id": "BeS5mG40X6Bx",
        "outputId": "eae274ef-5f4a-4c97-b9ff-0bfed77fcefe"
      },
      "execution_count": 140,
      "outputs": [
        {
          "output_type": "stream",
          "name": "stdout",
          "text": [
            "Index(['Unnamed: 0', 'Unnamed: 1', 'Unnamed: 2', 'Unnamed: 3', 'Unnamed: 4',\n",
            "       'Unnamed: 5', 'Unnamed: 6', 'Unnamed: 7', 'Unnamed: 8'],\n",
            "      dtype='object')\n"
          ]
        }
      ]
    },
    {
      "cell_type": "code",
      "source": [
        "sheet_name = \"cleansing\"\n",
        "\n",
        "# โหลดข้อมูลจากไฟล์ Excel เป็น DataFrame\n",
        "df = pd.read_excel(excel_file, sheet_name=sheet_name)\n",
        "\n",
        "# แสดงหัวตารางชีทที่ 1\n",
        "print(df.head())"
      ],
      "metadata": {
        "colab": {
          "base_uri": "https://localhost:8080/"
        },
        "id": "e4SMjwJqZLTL",
        "outputId": "1c68b37d-db5c-45c8-80eb-2f2d9ea2c886"
      },
      "execution_count": 141,
      "outputs": [
        {
          "output_type": "stream",
          "name": "stdout",
          "text": [
            "       putday      id   telephone\n",
            "0  2022-07-01  130079  0863794802\n",
            "1  1994-04-01  100006  0846837742\n",
            "2  1994-04-04  100008  0914202078\n",
            "3  1994-03-30  100009  0936324197\n",
            "4  1994-03-28  100010  0906141956\n"
          ]
        }
      ]
    },
    {
      "cell_type": "code",
      "source": [
        "# แสดงหัวตาราง\n",
        "print(df.head())\n",
        "\n",
        "# หรือ\n",
        "# แสดงข้อมูลแถวแรก\n",
        "print(df.iloc[0])\n"
      ],
      "metadata": {
        "colab": {
          "base_uri": "https://localhost:8080/"
        },
        "id": "bJ7vhXh1Zcae",
        "outputId": "aafc73e4-6e81-47f4-ef6e-155262cc777c"
      },
      "execution_count": 142,
      "outputs": [
        {
          "output_type": "stream",
          "name": "stdout",
          "text": [
            "       putday      id   telephone\n",
            "0  2022-07-01  130079  0863794802\n",
            "1  1994-04-01  100006  0846837742\n",
            "2  1994-04-04  100008  0914202078\n",
            "3  1994-03-30  100009  0936324197\n",
            "4  1994-03-28  100010  0906141956\n",
            "putday       2022-07-01\n",
            "id               130079\n",
            "telephone    0863794802\n",
            "Name: 0, dtype: object\n"
          ]
        }
      ]
    },
    {
      "cell_type": "code",
      "source": [
        "# แสดงข้อมูลเกี่ยวกับ DataFrame\n",
        "print(df.info())\n"
      ],
      "metadata": {
        "colab": {
          "base_uri": "https://localhost:8080/"
        },
        "id": "zgGQ4t5AZsqf",
        "outputId": "f96f9a79-52af-408a-ff0b-532b864aedd8"
      },
      "execution_count": 143,
      "outputs": [
        {
          "output_type": "stream",
          "name": "stdout",
          "text": [
            "<class 'pandas.core.frame.DataFrame'>\n",
            "RangeIndex: 15201 entries, 0 to 15200\n",
            "Data columns (total 3 columns):\n",
            " #   Column     Non-Null Count  Dtype \n",
            "---  ------     --------------  ----- \n",
            " 0   putday     15061 non-null  object\n",
            " 1   id         15201 non-null  int64 \n",
            " 2   telephone  14107 non-null  object\n",
            "dtypes: int64(1), object(2)\n",
            "memory usage: 356.4+ KB\n",
            "None\n"
          ]
        }
      ]
    },
    {
      "cell_type": "code",
      "source": [
        "# เช็คจำนวนแถวและคอลัมน์\n",
        "num_rows, num_cols = df.shape\n",
        "print(\"จำนวนแถว:\", num_rows)\n",
        "print(\"จำนวนคอลัมน์:\", num_cols)"
      ],
      "metadata": {
        "colab": {
          "base_uri": "https://localhost:8080/"
        },
        "id": "P4Gb4rxrZwPY",
        "outputId": "c7df21fc-6fb0-4e60-c197-2679eebf50ac"
      },
      "execution_count": 144,
      "outputs": [
        {
          "output_type": "stream",
          "name": "stdout",
          "text": [
            "จำนวนแถว: 15201\n",
            "จำนวนคอลัมน์: 3\n"
          ]
        }
      ]
    },
    {
      "cell_type": "code",
      "source": [
        "import pandas as pd\n",
        "\n",
        "# ระบุที่อยู่ของไฟล์ Excel\n",
        "excel_file = \"/content/drive/MyDrive/Cleasing Data For กองทรัพยากรบุคคล/CR19-Worker-Phone_V00.xlsx\"\n",
        "\n",
        "# ระบุชื่อของชีทที่ต้องการอ่าน\n",
        "sheet_name = \"cleansing\"\n",
        "\n",
        "# โหลดข้อมูลจากไฟล์ Excel เป็น DataFrame\n",
        "df = pd.read_excel(excel_file, sheet_name=sheet_name)\n",
        "\n",
        "# แสดง DataFrame หลังจากแยกข้อมูล\n",
        "print(df)\n"
      ],
      "metadata": {
        "colab": {
          "base_uri": "https://localhost:8080/"
        },
        "id": "IKZW8I4SbMTN",
        "outputId": "a4c421bf-274e-4f3b-ba1b-60b30545bc1a"
      },
      "execution_count": 145,
      "outputs": [
        {
          "output_type": "stream",
          "name": "stdout",
          "text": [
            "           putday      id   telephone\n",
            "0      2022-07-01  130079  0863794802\n",
            "1      1994-04-01  100006  0846837742\n",
            "2      1994-04-04  100008  0914202078\n",
            "3      1994-03-30  100009  0936324197\n",
            "4      1994-03-28  100010  0906141956\n",
            "...           ...     ...         ...\n",
            "15196         NaN  133221  0634214852\n",
            "15197         NaN  133227  0933989923\n",
            "15198  2024-06-05  133229  0659329207\n",
            "15199  2024-05-13  133231  0648731383\n",
            "15200         NaN  133233         NaN\n",
            "\n",
            "[15201 rows x 3 columns]\n"
          ]
        }
      ]
    },
    {
      "cell_type": "code",
      "source": [
        "# กรองข้อมูลในคอลัมน์ 'Telephone' ที่มีจำนวนตัวเลขไม่เท่ากับ 10 หลัก\n",
        "invalid_telephone = df[df['telephone'].str.len() != 10]\n",
        "\n",
        "# แสดงข้อมูลที่ไม่ตรงตามเงื่อนไข\n",
        "print(\"เบอร์ที่ไม่มีตัวเลข 10 หลัก ในคอลัมน์ 'telephone':\")\n",
        "print(invalid_telephone)\n"
      ],
      "metadata": {
        "colab": {
          "base_uri": "https://localhost:8080/"
        },
        "id": "N4qhY-q4t-5q",
        "outputId": "0866cd3b-e892-40e0-fcdf-1d6711ff205f"
      },
      "execution_count": 146,
      "outputs": [
        {
          "output_type": "stream",
          "name": "stdout",
          "text": [
            "เบอร์ที่ไม่มีตัวเลข 10 หลัก ในคอลัมน์ 'telephone':\n",
            "           putday      id     telephone\n",
            "5      1993-04-01  100014   081-6349515\n",
            "9      1994-01-03  100020   089-8417345\n",
            "14     2011-10-01  100173  081-661-2084\n",
            "16     1970-05-01  100212  086-716-7693\n",
            "18     2020-10-01  100367  088-736-0042\n",
            "...           ...     ...           ...\n",
            "15167  2024-05-01  133141           NaN\n",
            "15170         NaN  133151           NaN\n",
            "15171  2024-05-01  133153           NaN\n",
            "15187         NaN  133199           NaN\n",
            "15200         NaN  133233           NaN\n",
            "\n",
            "[3776 rows x 3 columns]\n"
          ]
        }
      ]
    },
    {
      "cell_type": "code",
      "source": [
        "# ลบตัวอักษรที่ไม่เกี่ยวข้องออกจากคอลัมน์ 'Telephone'\n",
        "#df['telephone'] = df['telephone'].str.replace(r'\\D', '', regex=True)\n",
        "\n",
        "# เติมเลข 0 ข้างหน้าหากข้อมูลไม่ครบ 10 หลัก\n",
        "#df['telephone'] = df['telephone'].str.pad(10, side='left', fillchar='0')\n",
        "\n",
        "# แสดง DataFrame หลังจากจัดรูปแบบคอลัมน์ 'Telephone'\n",
        "#print(df)\n"
      ],
      "metadata": {
        "id": "EDz2Bez6u3rf"
      },
      "execution_count": 147,
      "outputs": []
    },
    {
      "cell_type": "code",
      "source": [
        "#file_path = \"ข้อมูล.xlsx\"\n",
        "#df.to_excel(file_path, index=False)\n",
        "\n",
        "#print(\"บันทึกไฟล์ Excel สำเร็จ:\", file_path)"
      ],
      "metadata": {
        "id": "56FNOla0v_cY"
      },
      "execution_count": 148,
      "outputs": []
    }
  ]
}